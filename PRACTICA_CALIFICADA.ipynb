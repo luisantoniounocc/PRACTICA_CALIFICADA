{
  "nbformat": 4,
  "nbformat_minor": 0,
  "metadata": {
    "colab": {
      "provenance": [],
      "authorship_tag": "ABX9TyM9dipPFBx4+x/n4nkFaTx3",
      "include_colab_link": true
    },
    "kernelspec": {
      "name": "python3",
      "display_name": "Python 3"
    },
    "language_info": {
      "name": "python"
    }
  },
  "cells": [
    {
      "cell_type": "markdown",
      "metadata": {
        "id": "view-in-github",
        "colab_type": "text"
      },
      "source": [
        "<a href=\"https://colab.research.google.com/github/luisantoniounocc/PRACTICA_CALIFICADA/blob/main/PRACTICA_CALIFICADA.ipynb\" target=\"_parent\"><img src=\"https://colab.research.google.com/assets/colab-badge.svg\" alt=\"Open In Colab\"/></a>"
      ]
    },
    {
      "cell_type": "markdown",
      "source": [
        "EJERCICIO 01:\n",
        "• Crea un vector de números enteros del 1 al 20.\n",
        "• Crea una matriz de 3x3 con valores aleatorios entre 0 y 1.\n",
        "• Redimensiona una matriz de 4x4 a una matriz de 2x8.\n",
        "• Crea un array de 10 números equidistantes entre 0 y 1.\n",
        "• Concatena dos vectores vertical y horizontalmente. (concatenate)\n"
      ],
      "metadata": {
        "id": "sC4b8mlQiaxo"
      }
    },
    {
      "cell_type": "markdown",
      "source": [
        "1.1"
      ],
      "metadata": {
        "id": "oYOBNG6Kmwd2"
      }
    },
    {
      "cell_type": "code",
      "execution_count": 2,
      "metadata": {
        "colab": {
          "base_uri": "https://localhost:8080/"
        },
        "id": "z14ijuLDfg3g",
        "outputId": "566d44f7-2f66-433a-dd1f-b626b84efe6a"
      },
      "outputs": [
        {
          "output_type": "stream",
          "name": "stdout",
          "text": [
            "Vector del 1 al 20:\n",
            "[ 1  2  3  4  5  6  7  8  9 10 11 12 13 14 15 16 17 18 19 20]\n"
          ]
        }
      ],
      "source": [
        "import numpy as np\n",
        "\n",
        "vector = np.arange(1, 21)\n",
        "print(\"Vector del 1 al 20:\")\n",
        "print(vector)"
      ]
    },
    {
      "cell_type": "markdown",
      "source": [
        "1.2"
      ],
      "metadata": {
        "id": "i7LImBd1m3W-"
      }
    },
    {
      "cell_type": "code",
      "source": [
        "matriz_3x3 = np.random.rand(3, 3)\n",
        "print(\"\\nMatriz 3x3 aleatoria:\")\n",
        "print(matriz_3x3)"
      ],
      "metadata": {
        "id": "83AcQEX1mdae",
        "colab": {
          "base_uri": "https://localhost:8080/"
        },
        "outputId": "c9a76d83-5ac5-44b5-d63c-546b496e9a98"
      },
      "execution_count": 3,
      "outputs": [
        {
          "output_type": "stream",
          "name": "stdout",
          "text": [
            "\n",
            "Matriz 3x3 aleatoria:\n",
            "[[3.50867237e-01 8.92043507e-01 4.20274342e-02]\n",
            " [4.45045344e-01 4.20388766e-01 3.95402617e-04]\n",
            " [3.48382163e-02 2.48369376e-01 5.56824889e-01]]\n"
          ]
        }
      ]
    },
    {
      "cell_type": "markdown",
      "source": [
        "1.3"
      ],
      "metadata": {
        "id": "1SyaUVkOm6QG"
      }
    },
    {
      "cell_type": "code",
      "source": [
        "matriz_4x4 = np.random.rand(4, 4)\n",
        "matriz_2x8 = matriz_4x4.reshape(2, 8)\n",
        "print(\"\\nMatriz 4x4 original:\")\n",
        "print(matriz_4x4)\n",
        "print(\"\\nMatriz redimensionada 2x8:\")\n",
        "print(matriz_2x8)"
      ],
      "metadata": {
        "id": "Ra6BJHJtmdtG",
        "colab": {
          "base_uri": "https://localhost:8080/"
        },
        "outputId": "0eef030c-4a3a-4d3a-d451-7c7b456966e4"
      },
      "execution_count": 4,
      "outputs": [
        {
          "output_type": "stream",
          "name": "stdout",
          "text": [
            "\n",
            "Matriz 4x4 original:\n",
            "[[0.26645075 0.42558529 0.79824917 0.99994253]\n",
            " [0.56816998 0.55443027 0.34744379 0.39289485]\n",
            " [0.70203462 0.05467332 0.63456155 0.52037206]\n",
            " [0.19667866 0.49605948 0.50518169 0.41674046]]\n",
            "\n",
            "Matriz redimensionada 2x8:\n",
            "[[0.26645075 0.42558529 0.79824917 0.99994253 0.56816998 0.55443027\n",
            "  0.34744379 0.39289485]\n",
            " [0.70203462 0.05467332 0.63456155 0.52037206 0.19667866 0.49605948\n",
            "  0.50518169 0.41674046]]\n"
          ]
        }
      ]
    },
    {
      "cell_type": "markdown",
      "source": [
        "1.4"
      ],
      "metadata": {
        "id": "7U8C9mzLm82O"
      }
    },
    {
      "cell_type": "code",
      "source": [
        "array_10 = np.linspace(0, 1, 10)\n",
        "print(\"\\nArray de 10 números equidistantes entre 0 y 1:\")\n",
        "print(array_10)"
      ],
      "metadata": {
        "id": "ctDDyxQdmd9O",
        "colab": {
          "base_uri": "https://localhost:8080/"
        },
        "outputId": "fb8d4bf8-2029-432c-b554-e1eef3427864"
      },
      "execution_count": 5,
      "outputs": [
        {
          "output_type": "stream",
          "name": "stdout",
          "text": [
            "\n",
            "Array de 10 números equidistantes entre 0 y 1:\n",
            "[0.         0.11111111 0.22222222 0.33333333 0.44444444 0.55555556\n",
            " 0.66666667 0.77777778 0.88888889 1.        ]\n"
          ]
        }
      ]
    },
    {
      "cell_type": "markdown",
      "source": [
        "1.5"
      ],
      "metadata": {
        "id": "jXRftbNWm9D-"
      }
    },
    {
      "cell_type": "code",
      "source": [
        "v1 = np.array([1, 2, 3])\n",
        "v2 = np.array([4, 5, 6])\n",
        "\n",
        "# Concatenación horizontal (1D)\n",
        "concat_horizontal = np.concatenate((v1, v2))\n",
        "print(\"\\nConcatenación horizontal:\")\n",
        "print(concat_horizontal)\n",
        "\n",
        "# Concatenación vertical (convertir vectores a 2D)\n",
        "v1_2d = v1.reshape(1, -1)\n",
        "v2_2d = v2.reshape(1, -1)\n",
        "concat_vertical = np.concatenate((v1_2d, v2_2d), axis=0)\n",
        "print(\"\\nConcatenación vertical:\")\n",
        "print(concat_vertical)"
      ],
      "metadata": {
        "id": "1EcIXZLRmewW",
        "colab": {
          "base_uri": "https://localhost:8080/"
        },
        "outputId": "2f32a5ee-5026-48f6-a67a-9bef3475a179"
      },
      "execution_count": 6,
      "outputs": [
        {
          "output_type": "stream",
          "name": "stdout",
          "text": [
            "\n",
            "Concatenación horizontal:\n",
            "[1 2 3 4 5 6]\n",
            "\n",
            "Concatenación vertical:\n",
            "[[1 2 3]\n",
            " [4 5 6]]\n"
          ]
        }
      ]
    },
    {
      "cell_type": "markdown",
      "source": [
        "EJERCICIO 02: Resolver las siguientes operaciones:\n",
        "Calcula la suma, resta, multiplicación y división de dos vectores.\n",
        "Calcula la media, mediana y desviación estándar de un vector.\n",
        "Normaliza un vector dividiendo cada elemento por el valor máximo.\n",
        "Encuentra el índice del valor máximo y mínimo en un vector.\n",
        "Realiza una multiplicación matricial entre dos matrices 3x3."
      ],
      "metadata": {
        "id": "4wLuwfvMiwqv"
      }
    },
    {
      "cell_type": "markdown",
      "source": [
        "2.1"
      ],
      "metadata": {
        "id": "5N_Olu_cn1En"
      }
    },
    {
      "cell_type": "code",
      "source": [
        "import numpy as np\n",
        "\n",
        "v1 = np.array([10, 20, 30, 40, 50])\n",
        "v2 = np.array([2, 4, 6, 8, 10])\n",
        "\n",
        "print(\"Suma:\", v1 + v2)\n",
        "print(\"Resta:\", v1 - v2)\n",
        "print(\"Multiplicación:\", v1 * v2)\n",
        "print(\"División:\", v1 / v2)"
      ],
      "metadata": {
        "colab": {
          "base_uri": "https://localhost:8080/"
        },
        "id": "o38OHCHfi8iO",
        "outputId": "06d496c9-0df7-4477-d81c-5a9765287a65"
      },
      "execution_count": 7,
      "outputs": [
        {
          "output_type": "stream",
          "name": "stdout",
          "text": [
            "Suma: [12 24 36 48 60]\n",
            "Resta: [ 8 16 24 32 40]\n",
            "Multiplicación: [ 20  80 180 320 500]\n",
            "División: [5. 5. 5. 5. 5.]\n"
          ]
        }
      ]
    },
    {
      "cell_type": "markdown",
      "source": [
        "2.2"
      ],
      "metadata": {
        "id": "DeSzMSH_n3bG"
      }
    },
    {
      "cell_type": "code",
      "source": [
        "print(\"Media:\", np.mean(v1))\n",
        "print(\"Mediana:\", np.median(v1))\n",
        "print(\"Desviación estándar:\", np.std(v1))"
      ],
      "metadata": {
        "id": "wFbJAdgAnb03",
        "colab": {
          "base_uri": "https://localhost:8080/"
        },
        "outputId": "35f9ab82-4f7e-443a-a0e6-5f818f391cac"
      },
      "execution_count": 8,
      "outputs": [
        {
          "output_type": "stream",
          "name": "stdout",
          "text": [
            "Media: 30.0\n",
            "Mediana: 30.0\n",
            "Desviación estándar: 14.142135623730951\n"
          ]
        }
      ]
    },
    {
      "cell_type": "markdown",
      "source": [
        "2.3"
      ],
      "metadata": {
        "id": "WLjZLs6Mn6rO"
      }
    },
    {
      "cell_type": "code",
      "source": [
        "v_norm = v1 / np.max(v1)\n",
        "print(\"Vector normalizado:\", v_norm)"
      ],
      "metadata": {
        "colab": {
          "base_uri": "https://localhost:8080/"
        },
        "id": "7FY6w5e5nb9u",
        "outputId": "8aa8cb87-4c74-4a09-beed-cb376762ccb6"
      },
      "execution_count": 9,
      "outputs": [
        {
          "output_type": "stream",
          "name": "stdout",
          "text": [
            "Vector normalizado: [0.2 0.4 0.6 0.8 1. ]\n"
          ]
        }
      ]
    },
    {
      "cell_type": "markdown",
      "source": [
        "2.4"
      ],
      "metadata": {
        "id": "i75o4OUTn-xm"
      }
    },
    {
      "cell_type": "code",
      "source": [
        "print(\"Índice máximo:\", np.argmax(v1))\n",
        "print(\"Índice mínimo:\", np.argmin(v1))"
      ],
      "metadata": {
        "id": "3EWTeKroncG2",
        "colab": {
          "base_uri": "https://localhost:8080/"
        },
        "outputId": "55b95c53-298e-4343-89cf-f6f260a09bb3"
      },
      "execution_count": 10,
      "outputs": [
        {
          "output_type": "stream",
          "name": "stdout",
          "text": [
            "Índice máximo: 4\n",
            "Índice mínimo: 0\n"
          ]
        }
      ]
    },
    {
      "cell_type": "markdown",
      "source": [
        "2.5"
      ],
      "metadata": {
        "id": "PkoVLpmToBN1"
      }
    },
    {
      "cell_type": "code",
      "source": [
        "m1 = np.array([[1, 2, 3],\n",
        "               [4, 5, 6],\n",
        "               [7, 8, 9]])\n",
        "m2 = np.array([[9, 8, 7],\n",
        "               [6, 5, 4],\n",
        "               [3, 2, 1]])\n",
        "\n",
        "producto = np.matmul(m1, m2)\n",
        "print(\"Multiplicación matricial:\\n\", producto)"
      ],
      "metadata": {
        "id": "kfqLjJTqncPu",
        "colab": {
          "base_uri": "https://localhost:8080/"
        },
        "outputId": "e4061950-c513-4b52-da94-fc2b060148f2"
      },
      "execution_count": 11,
      "outputs": [
        {
          "output_type": "stream",
          "name": "stdout",
          "text": [
            "Multiplicación matricial:\n",
            " [[ 30  24  18]\n",
            " [ 84  69  54]\n",
            " [138 114  90]]\n"
          ]
        }
      ]
    },
    {
      "cell_type": "markdown",
      "source": [
        "EJERCICIO 03: Resolver con numpy los siguientes casos:\n",
        "Selecciona los elementos pares de un vector de números enteros.\n",
        "Filtra los valores mayores que 5 en un vector\n",
        "Filtra los valores iguales a cero\n",
        "Filtra los valores negativos\n",
        "Aplicar la media a los valores mayores de 50.\n"
      ],
      "metadata": {
        "id": "m2urnEfijyG_"
      }
    },
    {
      "cell_type": "markdown",
      "source": [
        "3.1"
      ],
      "metadata": {
        "id": "CCC9oLM_ocb2"
      }
    },
    {
      "cell_type": "code",
      "source": [
        "import numpy as np\n",
        "vector = np.array([0, 2, 3, 4, 6, 7, 8, 10, 12, 15, 50, 60, 70, -5, -10, 0])\n",
        "pares = vector[vector % 2 == 0]\n",
        "print(\"Elementos pares:\", pares)"
      ],
      "metadata": {
        "colab": {
          "base_uri": "https://localhost:8080/"
        },
        "id": "a_SCN3QIkD6t",
        "outputId": "4aa3dfbc-9bd7-40f5-8d3d-71d6dfc3b7c9"
      },
      "execution_count": 12,
      "outputs": [
        {
          "output_type": "stream",
          "name": "stdout",
          "text": [
            "Elementos pares: [  0   2   4   6   8  10  12  50  60  70 -10   0]\n"
          ]
        }
      ]
    },
    {
      "cell_type": "markdown",
      "source": [
        "3.2"
      ],
      "metadata": {
        "id": "wWYqPK5jogLf"
      }
    },
    {
      "cell_type": "code",
      "source": [
        "mayores_5 = vector[vector > 5]\n",
        "print(\"Valores mayores que 5:\", mayores_5)"
      ],
      "metadata": {
        "colab": {
          "base_uri": "https://localhost:8080/"
        },
        "id": "d_gPPYCboim2",
        "outputId": "3bfbc539-5728-4b74-8372-cae968b723e7"
      },
      "execution_count": 13,
      "outputs": [
        {
          "output_type": "stream",
          "name": "stdout",
          "text": [
            "Valores mayores que 5: [ 6  7  8 10 12 15 50 60 70]\n"
          ]
        }
      ]
    },
    {
      "cell_type": "markdown",
      "source": [
        "3.3"
      ],
      "metadata": {
        "id": "XyS663VwonUu"
      }
    },
    {
      "cell_type": "code",
      "source": [
        "iguales_cero = vector[vector == 0]\n",
        "print(\"Valores iguales a cero:\", iguales_cero)"
      ],
      "metadata": {
        "colab": {
          "base_uri": "https://localhost:8080/"
        },
        "id": "Lmjm0XRzoxmO",
        "outputId": "d59013e3-e66f-4814-9b30-24af1e4c91f9"
      },
      "execution_count": 14,
      "outputs": [
        {
          "output_type": "stream",
          "name": "stdout",
          "text": [
            "Valores iguales a cero: [0 0]\n"
          ]
        }
      ]
    },
    {
      "cell_type": "markdown",
      "source": [
        "3.4"
      ],
      "metadata": {
        "id": "QcOCcPFeooV-"
      }
    },
    {
      "cell_type": "code",
      "source": [
        "negativos = vector[vector < 0]\n",
        "print(\"Valores negativos:\", negativos)"
      ],
      "metadata": {
        "id": "RTe1BkiJo3_2",
        "colab": {
          "base_uri": "https://localhost:8080/"
        },
        "outputId": "b5a518fb-0737-4b81-e599-5ceec5a875bd"
      },
      "execution_count": 15,
      "outputs": [
        {
          "output_type": "stream",
          "name": "stdout",
          "text": [
            "Valores negativos: [ -5 -10]\n"
          ]
        }
      ]
    },
    {
      "cell_type": "markdown",
      "source": [
        "3.5"
      ],
      "metadata": {
        "id": "gPAmQkN_pC7N"
      }
    },
    {
      "cell_type": "code",
      "source": [
        "mayores_50 = vector[vector > 50]\n",
        "media_mayores_50 = np.mean(mayores_50) if mayores_50.size > 0 else None\n",
        "print(\"Media de valores mayores que 50:\", media_mayores_50)"
      ],
      "metadata": {
        "colab": {
          "base_uri": "https://localhost:8080/"
        },
        "id": "TwByAMRHpD4I",
        "outputId": "22fee64b-05a1-4787-8ad5-a9a0bd503164"
      },
      "execution_count": 16,
      "outputs": [
        {
          "output_type": "stream",
          "name": "stdout",
          "text": [
            "Media de valores mayores que 50: 65.0\n"
          ]
        }
      ]
    },
    {
      "cell_type": "markdown",
      "source": [
        "EJERCICIO 04: 4. Resolver con numpy los siguientes casos:\n",
        "Crea un vector de 10 elementos y reemplaza todos los valores mayores que 5 con 0.\n",
        "• Combina dos vectores booleanos utilizando las operaciones & (AND) y | (OR).\n",
        "• Cuenta la cantidad de valores en un vector que son múltiplos de 3.\n",
        "• Encuentra los índices de los elementos no nulos en un vector. (np.nonzero) Comprueba si todos los elementos en un array son mayores que un valor específico digitado por el usuario."
      ],
      "metadata": {
        "id": "ogw32K_akS3e"
      }
    },
    {
      "cell_type": "markdown",
      "source": [
        "4.1"
      ],
      "metadata": {
        "id": "VGzZJjntp8B2"
      }
    },
    {
      "cell_type": "code",
      "source": [
        "import numpy as np\n",
        "\n",
        "v = np.array([1, 6, 3, 8, 5, 10, 2, 7, 4, 9])\n",
        "v[v > 5] = 0\n",
        "print(\"Vector con valores > 5 reemplazados por 0:\")\n",
        "print(v)"
      ],
      "metadata": {
        "colab": {
          "base_uri": "https://localhost:8080/"
        },
        "id": "o3FA9FuukhL-",
        "outputId": "ca09b168-ecfb-4cb2-9f38-1c6d9ce019e2"
      },
      "execution_count": 17,
      "outputs": [
        {
          "output_type": "stream",
          "name": "stdout",
          "text": [
            "Vector con valores > 5 reemplazados por 0:\n",
            "[1 0 3 0 5 0 2 0 4 0]\n"
          ]
        }
      ]
    },
    {
      "cell_type": "markdown",
      "source": [
        "4.2"
      ],
      "metadata": {
        "id": "Jq7gB7gCp_9-"
      }
    },
    {
      "cell_type": "code",
      "source": [
        "b1 = np.array([True, False, True, False])\n",
        "b2 = np.array([True, True, False, False])\n",
        "\n",
        "print(\"AND:\", b1 & b2)\n",
        "print(\"OR:\", b1 | b2)"
      ],
      "metadata": {
        "id": "tSKbU_LSpZfx",
        "colab": {
          "base_uri": "https://localhost:8080/"
        },
        "outputId": "7f050ba9-4e7d-41bf-e0b9-2bb6192a477b"
      },
      "execution_count": 18,
      "outputs": [
        {
          "output_type": "stream",
          "name": "stdout",
          "text": [
            "AND: [ True False False False]\n",
            "OR: [ True  True  True False]\n"
          ]
        }
      ]
    },
    {
      "cell_type": "markdown",
      "source": [
        "4.3"
      ],
      "metadata": {
        "id": "ywJppwUzqB-I"
      }
    },
    {
      "cell_type": "code",
      "source": [
        "v2 = np.array([3, 6, 7, 9, 10, 12, 14, 15])\n",
        "cantidad_multiplos_3 = np.sum(v2 % 3 == 0)\n",
        "print(\"Cantidad de múltiplos de 3:\", cantidad_multiplos_3)"
      ],
      "metadata": {
        "id": "YiysisJlpZ7-",
        "colab": {
          "base_uri": "https://localhost:8080/"
        },
        "outputId": "35e3a2bb-d8a2-41a9-c8ce-47716ac69cec"
      },
      "execution_count": 19,
      "outputs": [
        {
          "output_type": "stream",
          "name": "stdout",
          "text": [
            "Cantidad de múltiplos de 3: 5\n"
          ]
        }
      ]
    },
    {
      "cell_type": "markdown",
      "source": [
        "4.4"
      ],
      "metadata": {
        "id": "Y3cPkgOsqEp2"
      }
    },
    {
      "cell_type": "code",
      "source": [
        "v3 = np.array([0, 1, 2, 0, 3, 0])\n",
        "indices_no_nulos = np.nonzero(v3)[0]\n",
        "print(\"Índices de elementos no nulos:\", indices_no_nulos)"
      ],
      "metadata": {
        "id": "fZ0oKLWKpaFe",
        "colab": {
          "base_uri": "https://localhost:8080/"
        },
        "outputId": "94f26abc-e5b1-457f-a562-bb71813beb66"
      },
      "execution_count": 20,
      "outputs": [
        {
          "output_type": "stream",
          "name": "stdout",
          "text": [
            "Índices de elementos no nulos: [1 2 4]\n"
          ]
        }
      ]
    },
    {
      "cell_type": "markdown",
      "source": [
        "4.5"
      ],
      "metadata": {
        "id": "NtS18rYUqGYH"
      }
    },
    {
      "cell_type": "code",
      "source": [
        "valor = float(input(\"Introduce un valor para comparar: \"))\n",
        "arr = np.array([10, 15, 20, 25, 30])\n",
        "todos_mayores = np.all(arr > valor)\n",
        "print(f\"¿Todos los elementos son mayores que {valor}? {todos_mayores}\")"
      ],
      "metadata": {
        "id": "eeIRzx-PpaNu",
        "colab": {
          "base_uri": "https://localhost:8080/"
        },
        "outputId": "6c2399c7-0c65-4e4f-8b64-d7179f36097c"
      },
      "execution_count": 21,
      "outputs": [
        {
          "output_type": "stream",
          "name": "stdout",
          "text": [
            "Introduce un valor para comparar: 90\n",
            "¿Todos los elementos son mayores que 90.0? False\n"
          ]
        }
      ]
    },
    {
      "cell_type": "markdown",
      "source": [
        "EJERCICIO 05: 5. Resolver con numpy los siguientes casos:\n",
        "Calcula el cuadrado de cada elemento en un vector.\n",
        "• Utiliza la función exponencial para elevar todos los elementos de un vector a la misma potencia.\n",
        "• Encuentra los valores máximos y mínimos en cada fila de una matriz.\n",
        "• Aplica la función sin a todos los elementos de un vector y almacena los resultados en otro vector.\n",
        "• Realiza la transpuesta de una matriz 3x4."
      ],
      "metadata": {
        "id": "i7i0_a9ulGIH"
      }
    },
    {
      "cell_type": "markdown",
      "source": [
        "5.1"
      ],
      "metadata": {
        "id": "nLXEa2WWq5a2"
      }
    },
    {
      "cell_type": "code",
      "source": [
        "import numpy as np\n",
        "v = np.array([1, 2, 3, 4, 5])\n",
        "cuadrado = v ** 2\n",
        "print(\"Cuadrado de cada elemento:\", cuadrado)"
      ],
      "metadata": {
        "id": "6aAZgEKAlQ50",
        "colab": {
          "base_uri": "https://localhost:8080/"
        },
        "outputId": "b5669f79-ea35-43be-9ec9-976c49352424"
      },
      "execution_count": 22,
      "outputs": [
        {
          "output_type": "stream",
          "name": "stdout",
          "text": [
            "Cuadrado de cada elemento: [ 1  4  9 16 25]\n"
          ]
        }
      ]
    },
    {
      "cell_type": "markdown",
      "source": [
        "5.2"
      ],
      "metadata": {
        "id": "JHh-BqDaq9h-"
      }
    },
    {
      "cell_type": "code",
      "source": [
        "potencia = 3\n",
        "exp_potencia = np.power(v, potencia)\n",
        "print(f\"Vector elevado a la potencia {potencia}:\", exp_potencia)"
      ],
      "metadata": {
        "id": "nWuiPY2SqWk-",
        "colab": {
          "base_uri": "https://localhost:8080/"
        },
        "outputId": "4bfe0228-0b29-4964-f108-25934194fe2d"
      },
      "execution_count": 23,
      "outputs": [
        {
          "output_type": "stream",
          "name": "stdout",
          "text": [
            "Vector elevado a la potencia 3: [  1   8  27  64 125]\n"
          ]
        }
      ]
    },
    {
      "cell_type": "markdown",
      "source": [
        "5.3"
      ],
      "metadata": {
        "id": "ldeA6STWq_e2"
      }
    },
    {
      "cell_type": "code",
      "source": [
        "m = np.array([[1, 2, 3, 4],\n",
        "              [5, 6, 7, 8],\n",
        "              [9, 10, 11, 12]])\n",
        "\n",
        "maximos_filas = np.max(m, axis=1)\n",
        "minimos_filas = np.min(m, axis=1)\n",
        "\n",
        "print(\"Máximos por fila:\", maximos_filas)\n",
        "print(\"Mínimos por fila:\", minimos_filas)"
      ],
      "metadata": {
        "colab": {
          "base_uri": "https://localhost:8080/"
        },
        "id": "ywZBrMTjqWuX",
        "outputId": "c3a7b426-6833-4d9c-aa39-dd5151472f1a"
      },
      "execution_count": 24,
      "outputs": [
        {
          "output_type": "stream",
          "name": "stdout",
          "text": [
            "Máximos por fila: [ 4  8 12]\n",
            "Mínimos por fila: [1 5 9]\n"
          ]
        }
      ]
    },
    {
      "cell_type": "markdown",
      "source": [
        "5.4"
      ],
      "metadata": {
        "id": "EB5Gpdn7rBQ-"
      }
    },
    {
      "cell_type": "code",
      "source": [
        "seno = np.sin(v)\n",
        "print(\"Seno de cada elemento:\", seno)"
      ],
      "metadata": {
        "id": "J234EF0QqW4v",
        "colab": {
          "base_uri": "https://localhost:8080/"
        },
        "outputId": "9ec7e950-f7f1-42a3-9751-ac36b1504a26"
      },
      "execution_count": 25,
      "outputs": [
        {
          "output_type": "stream",
          "name": "stdout",
          "text": [
            "Seno de cada elemento: [ 0.84147098  0.90929743  0.14112001 -0.7568025  -0.95892427]\n"
          ]
        }
      ]
    },
    {
      "cell_type": "markdown",
      "source": [
        "5.5"
      ],
      "metadata": {
        "id": "YfTw1o4orDlm"
      }
    },
    {
      "cell_type": "code",
      "source": [
        "transpuesta = m.T\n",
        "print(\"Matriz transpuesta (4x3):\\n\", transpuesta)\n"
      ],
      "metadata": {
        "colab": {
          "base_uri": "https://localhost:8080/"
        },
        "id": "HnlWbX12qXC1",
        "outputId": "2d008bd4-24ae-49ee-d498-f49f909d6477"
      },
      "execution_count": 26,
      "outputs": [
        {
          "output_type": "stream",
          "name": "stdout",
          "text": [
            "Matriz transpuesta (4x3):\n",
            " [[ 1  5  9]\n",
            " [ 2  6 10]\n",
            " [ 3  7 11]\n",
            " [ 4  8 12]]\n"
          ]
        }
      ]
    },
    {
      "cell_type": "markdown",
      "source": [
        "Crea un DataFrame con las siguientes columnas: 'Nombre', 'Edad', 'Ciudad'. Añade al menos 10 registros.\n",
        "• Del DataFrame creado, filtra a las personas que tienen más de 25 años. • A tu DataFrame, añade una nueva columna llamada 'Ingresos', rellénala con cualquier valor.\n",
        "• Encuentra el promedio de la edad en tu DataFrame.\n",
        "• Cuenta cuántas veces aparece cada ciudad en tu DataFrame.\n",
        "• Agrupa tu DataFrame por 'Ciudad' y calcula el promedio de 'Edad' para cada ciudad. (groupby)\n",
        "• Ordena tu DataFrame por 'Edad', de manera ascendente y luego descendente."
      ],
      "metadata": {
        "id": "BaR15tQdrI4n"
      }
    },
    {
      "cell_type": "markdown",
      "source": [
        "6.1"
      ],
      "metadata": {
        "id": "B-3aXY5JsCwF"
      }
    },
    {
      "cell_type": "code",
      "source": [
        "import pandas as pd\n",
        "\n",
        "# Crear DataFrame\n",
        "data = {'Nombre': ['Ana', 'Luis', 'Carlos', 'Marta', 'Jorge', 'Elena', 'Pedro', 'Sofía', 'Raúl', 'Lucía'],\n",
        "        'Edad': [23, 34, 29, 21, 40, 27, 33, 22, 30, 26],\n",
        "        'Ciudad': ['Lima', 'Cusco', 'Lima', 'Arequipa', 'Cusco', 'Lima', 'Arequipa', 'Cusco', 'Lima', 'Arequipa']}\n",
        "\n",
        "df = pd.DataFrame(data)\n",
        "\n",
        "# Filtrar personas con edad mayor a 25\n",
        "mayores_25 = df[df['Edad'] > 25]\n",
        "print(\"Personas con más de 25 años:\\n\", mayores_25)\n"
      ],
      "metadata": {
        "colab": {
          "base_uri": "https://localhost:8080/"
        },
        "id": "OF5DM_d_sLyO",
        "outputId": "11450947-c8b0-4e66-a1f8-7921cae84ee5"
      },
      "execution_count": 27,
      "outputs": [
        {
          "output_type": "stream",
          "name": "stdout",
          "text": [
            "Personas con más de 25 años:\n",
            "    Nombre  Edad    Ciudad\n",
            "1    Luis    34     Cusco\n",
            "2  Carlos    29      Lima\n",
            "4   Jorge    40     Cusco\n",
            "5   Elena    27      Lima\n",
            "6   Pedro    33  Arequipa\n",
            "8    Raúl    30      Lima\n",
            "9   Lucía    26  Arequipa\n"
          ]
        }
      ]
    },
    {
      "cell_type": "markdown",
      "source": [
        "6.2"
      ],
      "metadata": {
        "id": "JWWb9GLbs2g3"
      }
    },
    {
      "cell_type": "code",
      "source": [
        "df['Ingresos'] = [1500, 2000, 1800, 1200, 2200, 1600, 1700, 1300, 1900, 1400]\n",
        "print(\"DataFrame con columna 'Ingresos':\\n\", df)"
      ],
      "metadata": {
        "id": "eJplD4_7tAyt",
        "colab": {
          "base_uri": "https://localhost:8080/"
        },
        "outputId": "56ed07ec-7620-430d-9301-20d4e50201a6"
      },
      "execution_count": 28,
      "outputs": [
        {
          "output_type": "stream",
          "name": "stdout",
          "text": [
            "DataFrame con columna 'Ingresos':\n",
            "    Nombre  Edad    Ciudad  Ingresos\n",
            "0     Ana    23      Lima      1500\n",
            "1    Luis    34     Cusco      2000\n",
            "2  Carlos    29      Lima      1800\n",
            "3   Marta    21  Arequipa      1200\n",
            "4   Jorge    40     Cusco      2200\n",
            "5   Elena    27      Lima      1600\n",
            "6   Pedro    33  Arequipa      1700\n",
            "7   Sofía    22     Cusco      1300\n",
            "8    Raúl    30      Lima      1900\n",
            "9   Lucía    26  Arequipa      1400\n"
          ]
        }
      ]
    },
    {
      "cell_type": "markdown",
      "source": [
        "6.3"
      ],
      "metadata": {
        "id": "fSNs_tRdtBrf"
      }
    },
    {
      "cell_type": "code",
      "source": [
        "promedio_edad = df['Edad'].mean()\n",
        "print(\"Promedio de edad:\", promedio_edad)"
      ],
      "metadata": {
        "id": "WAVS3QKEtDAv",
        "colab": {
          "base_uri": "https://localhost:8080/"
        },
        "outputId": "4e403944-d012-483d-8159-4816e1a299f5"
      },
      "execution_count": 29,
      "outputs": [
        {
          "output_type": "stream",
          "name": "stdout",
          "text": [
            "Promedio de edad: 28.5\n"
          ]
        }
      ]
    },
    {
      "cell_type": "markdown",
      "source": [
        "6.4"
      ],
      "metadata": {
        "id": "bDYDnatOtGIf"
      }
    },
    {
      "cell_type": "code",
      "source": [
        "conteo_ciudades = df['Ciudad'].value_counts()\n",
        "print(\"Cantidad por ciudad:\\n\", conteo_ciudades)\n"
      ],
      "metadata": {
        "id": "KpNFGIp2tHyw",
        "colab": {
          "base_uri": "https://localhost:8080/"
        },
        "outputId": "89b6cb49-411e-4b50-a0a2-d5d5cfb46c3f"
      },
      "execution_count": 30,
      "outputs": [
        {
          "output_type": "stream",
          "name": "stdout",
          "text": [
            "Cantidad por ciudad:\n",
            " Ciudad\n",
            "Lima        4\n",
            "Cusco       3\n",
            "Arequipa    3\n",
            "Name: count, dtype: int64\n"
          ]
        }
      ]
    },
    {
      "cell_type": "markdown",
      "source": [
        "6.5"
      ],
      "metadata": {
        "id": "mp642nUHtJte"
      }
    },
    {
      "cell_type": "code",
      "source": [
        "promedio_por_ciudad = df.groupby('Ciudad')['Edad'].mean()\n",
        "print(\"Promedio de edad por ciudad:\\n\", promedio_por_ciudad)\n"
      ],
      "metadata": {
        "id": "0XTRJySatK4G",
        "colab": {
          "base_uri": "https://localhost:8080/"
        },
        "outputId": "616b22bc-3805-476a-ab04-39ccddcfe7a1"
      },
      "execution_count": 31,
      "outputs": [
        {
          "output_type": "stream",
          "name": "stdout",
          "text": [
            "Promedio de edad por ciudad:\n",
            " Ciudad\n",
            "Arequipa    26.666667\n",
            "Cusco       32.000000\n",
            "Lima        27.250000\n",
            "Name: Edad, dtype: float64\n"
          ]
        }
      ]
    },
    {
      "cell_type": "markdown",
      "source": [
        "6.6"
      ],
      "metadata": {
        "id": "_GZgC1j5tM_v"
      }
    },
    {
      "cell_type": "code",
      "source": [
        "orden_asc = df.sort_values(by='Edad')\n",
        "print(\"Ordenado por edad (ascendente):\\n\", orden_asc)\n",
        "\n",
        "orden_desc = df.sort_values(by='Edad', ascending=False)\n",
        "print(\"Ordenado por edad (descendente):\\n\", orden_desc)\n"
      ],
      "metadata": {
        "colab": {
          "base_uri": "https://localhost:8080/"
        },
        "id": "6JZI2zyYtOUW",
        "outputId": "da9c2183-6fd1-4b0a-dd30-16fba0f8a10c"
      },
      "execution_count": 32,
      "outputs": [
        {
          "output_type": "stream",
          "name": "stdout",
          "text": [
            "Ordenado por edad (ascendente):\n",
            "    Nombre  Edad    Ciudad  Ingresos\n",
            "3   Marta    21  Arequipa      1200\n",
            "7   Sofía    22     Cusco      1300\n",
            "0     Ana    23      Lima      1500\n",
            "9   Lucía    26  Arequipa      1400\n",
            "5   Elena    27      Lima      1600\n",
            "2  Carlos    29      Lima      1800\n",
            "8    Raúl    30      Lima      1900\n",
            "6   Pedro    33  Arequipa      1700\n",
            "1    Luis    34     Cusco      2000\n",
            "4   Jorge    40     Cusco      2200\n",
            "Ordenado por edad (descendente):\n",
            "    Nombre  Edad    Ciudad  Ingresos\n",
            "4   Jorge    40     Cusco      2200\n",
            "1    Luis    34     Cusco      2000\n",
            "6   Pedro    33  Arequipa      1700\n",
            "8    Raúl    30      Lima      1900\n",
            "2  Carlos    29      Lima      1800\n",
            "5   Elena    27      Lima      1600\n",
            "9   Lucía    26  Arequipa      1400\n",
            "0     Ana    23      Lima      1500\n",
            "7   Sofía    22     Cusco      1300\n",
            "3   Marta    21  Arequipa      1200\n"
          ]
        }
      ]
    },
    {
      "cell_type": "markdown",
      "source": [
        "EJERCICIO 07: Del archivo adjunto realizar los siguientes filtros:\n",
        "• Indicar cuantos son de la carrera de Ing. en sistemas\n",
        "• Indicar cuantos son de la carrera de Ing. en derecho\n",
        "• Indicar cuantos se inscribieron en el año 2015\n",
        "• Indicar cuantos son del 1 y 2 semestre"
      ],
      "metadata": {
        "id": "llThK8ByvqhX"
      }
    },
    {
      "cell_type": "code",
      "source": [
        "import pandas as pd\n",
        "import numpy as np\n",
        "\n",
        "# Leer el archivo Excel usando pandas\n",
        "df = pd.read_excel('/content/universidad.xlsx')\n",
        "\n",
        "# Convertir la columna de inscripción a datetime para extraer el año\n",
        "df['Inscripción'] = pd.to_datetime(df['Inscripción'], format='%d/%m/%Y')\n",
        "df['Año_Inscripción'] = df['Inscripción'].dt.year\n",
        "\n",
        "print(\"FILTROS SOLICITADOS:\")\n",
        "print(\"=\" * 40)\n",
        "\n",
        "# 1. Cuántos son de la carrera de Ing. en sistemas\n",
        "ing_sistemas_df = df[df['Carrera'] == 'Ing. en sistemas']\n",
        "ing_sistemas = len(ing_sistemas_df)\n",
        "print(f\"• Ing. en sistemas: {ing_sistemas}\")\n",
        "print(\"Datos completos:\")\n",
        "print(ing_sistemas_df)\n",
        "print()\n",
        "\n",
        "# 2. Cuántos son de la carrera de Ing. en derecho\n",
        "ing_derecho_df = df[df['Carrera'] == 'Ing. en derecho']\n",
        "ing_derecho = len(ing_derecho_df)\n",
        "print(f\"• Ing. en derecho: {ing_derecho}\")\n",
        "print(\"Datos completos:\")\n",
        "print(ing_derecho_df if not ing_derecho_df.empty else \"No hay estudiantes de esta carrera\")\n",
        "print()\n",
        "\n",
        "# 3. Cuántos se inscribieron en el año 2015\n",
        "inscritos_2015_df = df[df['Año_Inscripción'] == 2015]\n",
        "inscritos_2015 = len(inscritos_2015_df)\n",
        "print(f\"• Inscritos en 2015: {inscritos_2015}\")\n",
        "print(\"Datos completos:\")\n",
        "print(inscritos_2015_df)\n",
        "print()\n",
        "\n",
        "# 4. Cuántos son del 1 y 2 semestre\n",
        "semestre_1_2_df = df[df['Semestre'].isin([1, 2])]\n",
        "semestre_1_2 = len(semestre_1_2_df)\n",
        "print(f\"• Semestre 1 y 2: {semestre_1_2}\")\n",
        "print(\"Datos completos:\")\n",
        "print(semestre_1_2_df)\n",
        "\n",
        "# Usando numpy para verificar resultados\n",
        "print(\"\\nVerificación con NumPy:\")\n",
        "print(\"=\" * 40)\n",
        "carreras = df['Carrera'].values\n",
        "semestres = df['Semestre'].values\n",
        "años = df['Año_Inscripción'].values\n",
        "\n",
        "print(f\"• Ing. en sistemas: {np.sum(carreras == 'Ing. en sistemas')}\")\n",
        "print(f\"• Ing. en derecho: {np.sum(carreras == 'Ing. en derecho')}\")\n",
        "print(f\"• Inscritos en 2015: {np.sum(años == 2015)}\")\n",
        "print(f\"• Semestre 1 y 2: {np.sum((semestres == 1) | (semestres == 2))}\")"
      ],
      "metadata": {
        "colab": {
          "base_uri": "https://localhost:8080/"
        },
        "id": "41k0yplZ3984",
        "outputId": "48a4f912-9799-4596-d5f2-1b00eeb8c0f1"
      },
      "execution_count": 41,
      "outputs": [
        {
          "output_type": "stream",
          "name": "stdout",
          "text": [
            "FILTROS SOLICITADOS:\n",
            "========================================\n",
            "• Ing. en sistemas: 13\n",
            "Datos completos:\n",
            "   Num Control           Carrera  Semestre Inscripción  Id Persona  \\\n",
            "3     WiVaLó04  Ing. en sistemas         2  2016-12-03           4   \n",
            "9     BePaNa10  Ing. en sistemas         9  2018-05-15          10   \n",
            "21    ArLaOc22  Ing. en sistemas         1  2015-12-17          22   \n",
            "24    JaSoAy25  Ing. en sistemas         2  2018-05-21          25   \n",
            "26    DoAlVi27  Ing. en sistemas         4  2016-05-16          27   \n",
            "31    JuNúHi32  Ing. en sistemas         4  2016-05-22          32   \n",
            "45    TeLaKa46  Ing. en sistemas         4  2017-12-20          46   \n",
            "55    ViSaDu56  Ing. en sistemas         1  2017-12-22          56   \n",
            "73    LiToVe74  Ing. en sistemas         8  2015-12-12          74   \n",
            "82    FrViVa83  Ing. en sistemas         4  2016-12-12          83   \n",
            "89    LuÁvAl90  Ing. en sistemas         6  2017-12-19          90   \n",
            "91    FéVaRo92  Ing. en sistemas         6  2018-05-02          92   \n",
            "93    ArMuNi94  Ing. en sistemas        10  2015-05-07          94   \n",
            "\n",
            "    Año_Inscripción  \n",
            "3              2016  \n",
            "9              2018  \n",
            "21             2015  \n",
            "24             2018  \n",
            "26             2016  \n",
            "31             2016  \n",
            "45             2017  \n",
            "55             2017  \n",
            "73             2015  \n",
            "82             2016  \n",
            "89             2017  \n",
            "91             2018  \n",
            "93             2015  \n",
            "\n",
            "• Ing. en derecho: 0\n",
            "Datos completos:\n",
            "No hay estudiantes de esta carrera\n",
            "\n",
            "• Inscritos en 2015: 23\n",
            "Datos completos:\n",
            "   Num Control              Carrera  Semestre Inscripción  Id Persona  \\\n",
            "0     SeNeTe01  Lic. en nutriología         7  2015-05-20           1   \n",
            "1     JeViPi02         Ing. química         8  2015-05-02           2   \n",
            "2     MaFeNú03      Lic. en derecho         6  2015-05-09           3   \n",
            "5     AlAlEs06         Ing. química         9  2015-12-18           6   \n",
            "8     ClHeAr09  Lic. en nutriología         4  2015-05-01           9   \n",
            "21    ArLaOc22     Ing. en sistemas         1  2015-12-17          22   \n",
            "27    AnLuLl28    Lic. en pedagogía         4  2015-12-13          28   \n",
            "30    BrCuOc31    Lic. en pedagogía         1  2015-05-06          31   \n",
            "37    KlFuVi38     Ing. mecatrónica         9  2015-05-06          38   \n",
            "44    GoRuSa45         Ing. química         8  2015-12-06          45   \n",
            "50    AdSaCa51      Lic. en derecho         3  2015-12-07          51   \n",
            "59    LiMeAc60  Lic. en nutriología         3  2015-05-06          60   \n",
            "65    PaViLa66         Ing. química         8  2015-05-24          66   \n",
            "73    LiToVe74     Ing. en sistemas         8  2015-12-12          74   \n",
            "80    JoSeMa81    Lic. en pedagogía         3  2015-12-16          81   \n",
            "81    EvCuBr82  Lic. en nutriología         7  2015-05-15          82   \n",
            "84    FéRiLa85      Lic. en derecho         4  2015-05-28          85   \n",
            "87    CaVeCr88     Ing. mecatrónica         7  2015-12-03          88   \n",
            "88    GeLaVa89      Lic. en derecho         5  2015-05-25          89   \n",
            "92    OrVeTr93  Lic. en nutriología         1  2015-05-03          93   \n",
            "93    ArMuNi94     Ing. en sistemas        10  2015-05-07          94   \n",
            "95    StPeRu96  Lic. en nutriología         2  2015-12-15          96   \n",
            "97    NiBrPa98     Ing. mecatrónica         8  2015-05-14          98   \n",
            "\n",
            "    Año_Inscripción  \n",
            "0              2015  \n",
            "1              2015  \n",
            "2              2015  \n",
            "5              2015  \n",
            "8              2015  \n",
            "21             2015  \n",
            "27             2015  \n",
            "30             2015  \n",
            "37             2015  \n",
            "44             2015  \n",
            "50             2015  \n",
            "59             2015  \n",
            "65             2015  \n",
            "73             2015  \n",
            "80             2015  \n",
            "81             2015  \n",
            "84             2015  \n",
            "87             2015  \n",
            "88             2015  \n",
            "92             2015  \n",
            "93             2015  \n",
            "95             2015  \n",
            "97             2015  \n",
            "\n",
            "• Semestre 1 y 2: 22\n",
            "Datos completos:\n",
            "   Num Control              Carrera  Semestre Inscripción  Id Persona  \\\n",
            "3     WiVaLó04     Ing. en sistemas         2  2016-12-03           4   \n",
            "6     SaMeSe07     Ing. mecatrónica         1  2018-12-02           7   \n",
            "17    MaGaBe18      Lic. en derecho         1  2018-12-02          18   \n",
            "19    ClEsPi20  Lic. en nutriología         2  2016-12-22          20   \n",
            "20    GaCaSa21         Ing. química         2  2018-12-06          21   \n",
            "21    ArLaOc22     Ing. en sistemas         1  2015-12-17          22   \n",
            "24    JaSoAy25     Ing. en sistemas         2  2018-05-21          25   \n",
            "28    ElHiFa29    Lic. en pedagogía         2  2016-05-04          29   \n",
            "30    BrCuOc31    Lic. en pedagogía         1  2015-05-06          31   \n",
            "33    ÁlPrLi34      Lic. en derecho         2  2017-05-02          34   \n",
            "40    HeMoAl41  Lic. en nutriología         2  2017-12-26          41   \n",
            "48    EuPrVi49         Ing. química         1  2016-05-13          49   \n",
            "53    FeCrMa54    Lic. en pedagogía         2  2018-05-27          54   \n",
            "55    ViSaDu56     Ing. en sistemas         1  2017-12-22          56   \n",
            "63    TeAlVa64     Ing. mecatrónica         1  2017-12-23          64   \n",
            "69    LuAgPa70         Ing. química         1  2016-12-07          70   \n",
            "75    IsRoVa76    Lic. en pedagogía         1  2018-05-27          76   \n",
            "77    ArMeLa78         Ing. química         1  2017-05-22          78   \n",
            "92    OrVeTr93  Lic. en nutriología         1  2015-05-03          93   \n",
            "94    YaBrVa95         Ing. química         2  2016-05-23          95   \n",
            "95    StPeRu96  Lic. en nutriología         2  2015-12-15          96   \n",
            "99   MoNaBr100     Ing. mecatrónica         2  2018-05-11         100   \n",
            "\n",
            "    Año_Inscripción  \n",
            "3              2016  \n",
            "6              2018  \n",
            "17             2018  \n",
            "19             2016  \n",
            "20             2018  \n",
            "21             2015  \n",
            "24             2018  \n",
            "28             2016  \n",
            "30             2015  \n",
            "33             2017  \n",
            "40             2017  \n",
            "48             2016  \n",
            "53             2018  \n",
            "55             2017  \n",
            "63             2017  \n",
            "69             2016  \n",
            "75             2018  \n",
            "77             2017  \n",
            "92             2015  \n",
            "94             2016  \n",
            "95             2015  \n",
            "99             2018  \n",
            "\n",
            "Verificación con NumPy:\n",
            "========================================\n",
            "• Ing. en sistemas: 13\n",
            "• Ing. en derecho: 0\n",
            "• Inscritos en 2015: 23\n",
            "• Semestre 1 y 2: 22\n"
          ]
        }
      ]
    }
  ]
}