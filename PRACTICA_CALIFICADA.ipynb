{
  "nbformat": 4,
  "nbformat_minor": 0,
  "metadata": {
    "colab": {
      "provenance": [],
      "authorship_tag": "ABX9TyPos8/UQf92fMqnGPFu2XaD",
      "include_colab_link": true
    },
    "kernelspec": {
      "name": "python3",
      "display_name": "Python 3"
    },
    "language_info": {
      "name": "python"
    }
  },
  "cells": [
    {
      "cell_type": "markdown",
      "metadata": {
        "id": "view-in-github",
        "colab_type": "text"
      },
      "source": [
        "<a href=\"https://colab.research.google.com/github/luisantoniounocc/PRACTICA_CALIFICADA/blob/main/PRACTICA_CALIFICADA.ipynb\" target=\"_parent\"><img src=\"https://colab.research.google.com/assets/colab-badge.svg\" alt=\"Open In Colab\"/></a>"
      ]
    },
    {
      "cell_type": "markdown",
      "source": [
        "EJERCICIO 01:\n",
        "• Crea un vector de números enteros del 1 al 20.\n",
        "• Crea una matriz de 3x3 con valores aleatorios entre 0 y 1.\n",
        "• Redimensiona una matriz de 4x4 a una matriz de 2x8.\n",
        "• Crea un array de 10 números equidistantes entre 0 y 1.\n",
        "• Concatena dos vectores vertical y horizontalmente. (concatenate)\n"
      ],
      "metadata": {
        "id": "sC4b8mlQiaxo"
      }
    },
    {
      "cell_type": "markdown",
      "source": [
        "1.1"
      ],
      "metadata": {
        "id": "oYOBNG6Kmwd2"
      }
    },
    {
      "cell_type": "code",
      "execution_count": 9,
      "metadata": {
        "colab": {
          "base_uri": "https://localhost:8080/"
        },
        "id": "z14ijuLDfg3g",
        "outputId": "3f4b2d7b-a18e-420d-e9d5-c7e803fbd06f"
      },
      "outputs": [
        {
          "output_type": "stream",
          "name": "stdout",
          "text": [
            "Vector del 1 al 20:\n",
            "[ 1  2  3  4  5  6  7  8  9 10 11 12 13 14 15 16 17 18 19 20]\n"
          ]
        }
      ],
      "source": [
        "import numpy as np\n",
        "\n",
        "vector = np.arange(1, 21)\n",
        "print(\"Vector del 1 al 20:\")\n",
        "print(vector)"
      ]
    },
    {
      "cell_type": "markdown",
      "source": [
        "1.2"
      ],
      "metadata": {
        "id": "i7LImBd1m3W-"
      }
    },
    {
      "cell_type": "code",
      "source": [
        "matriz_3x3 = np.random.rand(3, 3)\n",
        "print(\"\\nMatriz 3x3 aleatoria:\")\n",
        "print(matriz_3x3)"
      ],
      "metadata": {
        "id": "83AcQEX1mdae"
      },
      "execution_count": null,
      "outputs": []
    },
    {
      "cell_type": "markdown",
      "source": [
        "1.3"
      ],
      "metadata": {
        "id": "1SyaUVkOm6QG"
      }
    },
    {
      "cell_type": "code",
      "source": [
        "matriz_4x4 = np.random.rand(4, 4)\n",
        "matriz_2x8 = matriz_4x4.reshape(2, 8)\n",
        "print(\"\\nMatriz 4x4 original:\")\n",
        "print(matriz_4x4)\n",
        "print(\"\\nMatriz redimensionada 2x8:\")\n",
        "print(matriz_2x8)"
      ],
      "metadata": {
        "id": "Ra6BJHJtmdtG"
      },
      "execution_count": null,
      "outputs": []
    },
    {
      "cell_type": "markdown",
      "source": [
        "1.4"
      ],
      "metadata": {
        "id": "7U8C9mzLm82O"
      }
    },
    {
      "cell_type": "code",
      "source": [
        "array_10 = np.linspace(0, 1, 10)\n",
        "print(\"\\nArray de 10 números equidistantes entre 0 y 1:\")\n",
        "print(array_10)"
      ],
      "metadata": {
        "id": "ctDDyxQdmd9O"
      },
      "execution_count": null,
      "outputs": []
    },
    {
      "cell_type": "markdown",
      "source": [
        "1.5"
      ],
      "metadata": {
        "id": "jXRftbNWm9D-"
      }
    },
    {
      "cell_type": "code",
      "source": [
        "v1 = np.array([1, 2, 3])\n",
        "v2 = np.array([4, 5, 6])\n",
        "\n",
        "# Concatenación horizontal (1D)\n",
        "concat_horizontal = np.concatenate((v1, v2))\n",
        "print(\"\\nConcatenación horizontal:\")\n",
        "print(concat_horizontal)\n",
        "\n",
        "# Concatenación vertical (convertir vectores a 2D)\n",
        "v1_2d = v1.reshape(1, -1)\n",
        "v2_2d = v2.reshape(1, -1)\n",
        "concat_vertical = np.concatenate((v1_2d, v2_2d), axis=0)\n",
        "print(\"\\nConcatenación vertical:\")\n",
        "print(concat_vertical)"
      ],
      "metadata": {
        "id": "1EcIXZLRmewW"
      },
      "execution_count": null,
      "outputs": []
    },
    {
      "cell_type": "markdown",
      "source": [
        "EJERCICIO 02: Resolver las siguientes operaciones:\n",
        "Calcula la suma, resta, multiplicación y división de dos vectores.\n",
        "Calcula la media, mediana y desviación estándar de un vector.\n",
        "Normaliza un vector dividiendo cada elemento por el valor máximo.\n",
        "Encuentra el índice del valor máximo y mínimo en un vector.\n",
        "Realiza una multiplicación matricial entre dos matrices 3x3."
      ],
      "metadata": {
        "id": "4wLuwfvMiwqv"
      }
    },
    {
      "cell_type": "markdown",
      "source": [
        "2.1"
      ],
      "metadata": {
        "id": "5N_Olu_cn1En"
      }
    },
    {
      "cell_type": "code",
      "source": [
        "import numpy as np\n",
        "\n",
        "v1 = np.array([10, 20, 30, 40, 50])\n",
        "v2 = np.array([2, 4, 6, 8, 10])\n",
        "\n",
        "print(\"Suma:\", v1 + v2)\n",
        "print(\"Resta:\", v1 - v2)\n",
        "print(\"Multiplicación:\", v1 * v2)\n",
        "print(\"División:\", v1 / v2)"
      ],
      "metadata": {
        "colab": {
          "base_uri": "https://localhost:8080/"
        },
        "id": "o38OHCHfi8iO",
        "outputId": "d4428f34-401f-464c-e184-3d3d52696a78"
      },
      "execution_count": 11,
      "outputs": [
        {
          "output_type": "stream",
          "name": "stdout",
          "text": [
            "Suma: [12 24 36 48 60]\n",
            "Resta: [ 8 16 24 32 40]\n",
            "Multiplicación: [ 20  80 180 320 500]\n",
            "División: [5. 5. 5. 5. 5.]\n"
          ]
        }
      ]
    },
    {
      "cell_type": "markdown",
      "source": [
        "2.2"
      ],
      "metadata": {
        "id": "DeSzMSH_n3bG"
      }
    },
    {
      "cell_type": "code",
      "source": [
        "print(\"Media:\", np.mean(v1))\n",
        "print(\"Mediana:\", np.median(v1))\n",
        "print(\"Desviación estándar:\", np.std(v1))"
      ],
      "metadata": {
        "id": "wFbJAdgAnb03"
      },
      "execution_count": null,
      "outputs": []
    },
    {
      "cell_type": "markdown",
      "source": [
        "2.3"
      ],
      "metadata": {
        "id": "WLjZLs6Mn6rO"
      }
    },
    {
      "cell_type": "code",
      "source": [
        "v_norm = v1 / np.max(v1)\n",
        "print(\"Vector normalizado:\", v_norm)"
      ],
      "metadata": {
        "colab": {
          "base_uri": "https://localhost:8080/"
        },
        "id": "7FY6w5e5nb9u",
        "outputId": "a19e29df-976e-43d8-b03b-bccb4d822c0f"
      },
      "execution_count": 10,
      "outputs": [
        {
          "output_type": "stream",
          "name": "stdout",
          "text": [
            "Vector normalizado: [0.2 0.4 0.6 0.8 1. ]\n"
          ]
        }
      ]
    },
    {
      "cell_type": "markdown",
      "source": [
        "2.4"
      ],
      "metadata": {
        "id": "i75o4OUTn-xm"
      }
    },
    {
      "cell_type": "code",
      "source": [
        "print(\"Índice máximo:\", np.argmax(v1))\n",
        "print(\"Índice mínimo:\", np.argmin(v1))"
      ],
      "metadata": {
        "id": "3EWTeKroncG2"
      },
      "execution_count": null,
      "outputs": []
    },
    {
      "cell_type": "markdown",
      "source": [
        "2.5"
      ],
      "metadata": {
        "id": "PkoVLpmToBN1"
      }
    },
    {
      "cell_type": "code",
      "source": [
        "m1 = np.array([[1, 2, 3],\n",
        "               [4, 5, 6],\n",
        "               [7, 8, 9]])\n",
        "m2 = np.array([[9, 8, 7],\n",
        "               [6, 5, 4],\n",
        "               [3, 2, 1]])\n",
        "\n",
        "producto = np.matmul(m1, m2)\n",
        "print(\"Multiplicación matricial:\\n\", producto)"
      ],
      "metadata": {
        "id": "kfqLjJTqncPu"
      },
      "execution_count": null,
      "outputs": []
    },
    {
      "cell_type": "markdown",
      "source": [
        "EJERCICIO 03: Resolver con numpy los siguientes casos:\n",
        "Selecciona los elementos pares de un vector de números enteros.\n",
        "Filtra los valores mayores que 5 en un vector\n",
        "Filtra los valores iguales a cero\n",
        "Filtra los valores negativos\n",
        "Aplicar la media a los valores mayores de 50.\n"
      ],
      "metadata": {
        "id": "m2urnEfijyG_"
      }
    },
    {
      "cell_type": "markdown",
      "source": [
        "3.1"
      ],
      "metadata": {
        "id": "CCC9oLM_ocb2"
      }
    },
    {
      "cell_type": "code",
      "source": [
        "import numpy as np\n",
        "vector = np.array([0, 2, 3, 4, 6, 7, 8, 10, 12, 15, 50, 60, 70, -5, -10, 0])\n",
        "pares = vector[vector % 2 == 0]\n",
        "print(\"Elementos pares:\", pares)"
      ],
      "metadata": {
        "colab": {
          "base_uri": "https://localhost:8080/"
        },
        "id": "a_SCN3QIkD6t",
        "outputId": "1d55ab74-609b-41be-f7e1-a3df1e6e39b3"
      },
      "execution_count": 12,
      "outputs": [
        {
          "output_type": "stream",
          "name": "stdout",
          "text": [
            "Elementos pares: [  0   2   4   6   8  10  12  50  60  70 -10   0]\n"
          ]
        }
      ]
    },
    {
      "cell_type": "markdown",
      "source": [
        "3.2"
      ],
      "metadata": {
        "id": "wWYqPK5jogLf"
      }
    },
    {
      "cell_type": "code",
      "source": [
        "mayores_5 = vector[vector > 5]\n",
        "print(\"Valores mayores que 5:\", mayores_5)"
      ],
      "metadata": {
        "colab": {
          "base_uri": "https://localhost:8080/"
        },
        "id": "d_gPPYCboim2",
        "outputId": "3baa2024-808a-4846-d48b-73f5d10475b4"
      },
      "execution_count": 13,
      "outputs": [
        {
          "output_type": "stream",
          "name": "stdout",
          "text": [
            "Valores mayores que 5: [ 6  7  8 10 12 15 50 60 70]\n"
          ]
        }
      ]
    },
    {
      "cell_type": "markdown",
      "source": [
        "3.3"
      ],
      "metadata": {
        "id": "XyS663VwonUu"
      }
    },
    {
      "cell_type": "code",
      "source": [
        "iguales_cero = vector[vector == 0]\n",
        "print(\"Valores iguales a cero:\", iguales_cero)"
      ],
      "metadata": {
        "colab": {
          "base_uri": "https://localhost:8080/"
        },
        "id": "Lmjm0XRzoxmO",
        "outputId": "fcd20832-782d-4360-cce6-542335a86a65"
      },
      "execution_count": 14,
      "outputs": [
        {
          "output_type": "stream",
          "name": "stdout",
          "text": [
            "Valores iguales a cero: [0 0]\n"
          ]
        }
      ]
    },
    {
      "cell_type": "markdown",
      "source": [
        "3.4"
      ],
      "metadata": {
        "id": "QcOCcPFeooV-"
      }
    },
    {
      "cell_type": "code",
      "source": [
        "negativos = vector[vector < 0]\n",
        "print(\"Valores negativos:\", negativos)"
      ],
      "metadata": {
        "id": "RTe1BkiJo3_2"
      },
      "execution_count": null,
      "outputs": []
    },
    {
      "cell_type": "markdown",
      "source": [
        "3.5"
      ],
      "metadata": {
        "id": "gPAmQkN_pC7N"
      }
    },
    {
      "cell_type": "code",
      "source": [
        "mayores_50 = vector[vector > 50]\n",
        "media_mayores_50 = np.mean(mayores_50) if mayores_50.size > 0 else None\n",
        "print(\"Media de valores mayores que 50:\", media_mayores_50)"
      ],
      "metadata": {
        "colab": {
          "base_uri": "https://localhost:8080/"
        },
        "id": "TwByAMRHpD4I",
        "outputId": "5018aafa-7016-4aeb-cde6-813d69f748be"
      },
      "execution_count": 15,
      "outputs": [
        {
          "output_type": "stream",
          "name": "stdout",
          "text": [
            "Media de valores mayores que 50: 65.0\n"
          ]
        }
      ]
    },
    {
      "cell_type": "markdown",
      "source": [
        "EJERCICIO 04: 4. Resolver con numpy los siguientes casos:\n",
        "Crea un vector de 10 elementos y reemplaza todos los valores mayores que 5 con 0.\n",
        "• Combina dos vectores booleanos utilizando las operaciones & (AND) y | (OR).\n",
        "• Cuenta la cantidad de valores en un vector que son múltiplos de 3.\n",
        "• Encuentra los índices de los elementos no nulos en un vector. (np.nonzero) Comprueba si todos los elementos en un array son mayores que un valor específico digitado por el usuario."
      ],
      "metadata": {
        "id": "ogw32K_akS3e"
      }
    },
    {
      "cell_type": "markdown",
      "source": [
        "4.1"
      ],
      "metadata": {
        "id": "VGzZJjntp8B2"
      }
    },
    {
      "cell_type": "code",
      "source": [
        "import numpy as np\n",
        "\n",
        "v = np.array([1, 6, 3, 8, 5, 10, 2, 7, 4, 9])\n",
        "v[v > 5] = 0\n",
        "print(\"Vector con valores > 5 reemplazados por 0:\")\n",
        "print(v)"
      ],
      "metadata": {
        "colab": {
          "base_uri": "https://localhost:8080/"
        },
        "id": "o3FA9FuukhL-",
        "outputId": "04a389c6-cdf7-4de1-828f-a7dcd74cb845"
      },
      "execution_count": 16,
      "outputs": [
        {
          "output_type": "stream",
          "name": "stdout",
          "text": [
            "Vector con valores > 5 reemplazados por 0:\n",
            "[1 0 3 0 5 0 2 0 4 0]\n"
          ]
        }
      ]
    },
    {
      "cell_type": "markdown",
      "source": [
        "4.2"
      ],
      "metadata": {
        "id": "Jq7gB7gCp_9-"
      }
    },
    {
      "cell_type": "code",
      "source": [
        "b1 = np.array([True, False, True, False])\n",
        "b2 = np.array([True, True, False, False])\n",
        "\n",
        "print(\"AND:\", b1 & b2)\n",
        "print(\"OR:\", b1 | b2)"
      ],
      "metadata": {
        "id": "tSKbU_LSpZfx"
      },
      "execution_count": null,
      "outputs": []
    },
    {
      "cell_type": "markdown",
      "source": [
        "4.3"
      ],
      "metadata": {
        "id": "ywJppwUzqB-I"
      }
    },
    {
      "cell_type": "code",
      "source": [
        "v2 = np.array([3, 6, 7, 9, 10, 12, 14, 15])\n",
        "cantidad_multiplos_3 = np.sum(v2 % 3 == 0)\n",
        "print(\"Cantidad de múltiplos de 3:\", cantidad_multiplos_3)"
      ],
      "metadata": {
        "id": "YiysisJlpZ7-"
      },
      "execution_count": null,
      "outputs": []
    },
    {
      "cell_type": "markdown",
      "source": [
        "4.4"
      ],
      "metadata": {
        "id": "Y3cPkgOsqEp2"
      }
    },
    {
      "cell_type": "code",
      "source": [
        "v3 = np.array([0, 1, 2, 0, 3, 0])\n",
        "indices_no_nulos = np.nonzero(v3)[0]\n",
        "print(\"Índices de elementos no nulos:\", indices_no_nulos)"
      ],
      "metadata": {
        "id": "fZ0oKLWKpaFe"
      },
      "execution_count": null,
      "outputs": []
    },
    {
      "cell_type": "markdown",
      "source": [
        "4.5"
      ],
      "metadata": {
        "id": "NtS18rYUqGYH"
      }
    },
    {
      "cell_type": "code",
      "source": [
        "valor = float(input(\"Introduce un valor para comparar: \"))\n",
        "arr = np.array([10, 15, 20, 25, 30])\n",
        "todos_mayores = np.all(arr > valor)\n",
        "print(f\"¿Todos los elementos son mayores que {valor}? {todos_mayores}\")"
      ],
      "metadata": {
        "id": "eeIRzx-PpaNu"
      },
      "execution_count": null,
      "outputs": []
    },
    {
      "cell_type": "markdown",
      "source": [
        "EJERCICIO 05: 5. Resolver con numpy los siguientes casos:\n",
        "Calcula el cuadrado de cada elemento en un vector.\n",
        "• Utiliza la función exponencial para elevar todos los elementos de un vector a la misma potencia.\n",
        "• Encuentra los valores máximos y mínimos en cada fila de una matriz.\n",
        "• Aplica la función sin a todos los elementos de un vector y almacena los resultados en otro vector.\n",
        "• Realiza la transpuesta de una matriz 3x4."
      ],
      "metadata": {
        "id": "i7i0_a9ulGIH"
      }
    },
    {
      "cell_type": "markdown",
      "source": [
        "5.1"
      ],
      "metadata": {
        "id": "nLXEa2WWq5a2"
      }
    },
    {
      "cell_type": "code",
      "source": [
        "import numpy as np\n",
        "v = np.array([1, 2, 3, 4, 5])\n",
        "cuadrado = v ** 2\n",
        "print(\"Cuadrado de cada elemento:\", cuadrado)"
      ],
      "metadata": {
        "id": "6aAZgEKAlQ50"
      },
      "execution_count": 16,
      "outputs": []
    },
    {
      "cell_type": "markdown",
      "source": [
        "5.2"
      ],
      "metadata": {
        "id": "JHh-BqDaq9h-"
      }
    },
    {
      "cell_type": "code",
      "source": [
        "potencia = 3\n",
        "exp_potencia = np.power(v, potencia)\n",
        "print(f\"Vector elevado a la potencia {potencia}:\", exp_potencia)"
      ],
      "metadata": {
        "id": "nWuiPY2SqWk-"
      },
      "execution_count": null,
      "outputs": []
    },
    {
      "cell_type": "markdown",
      "source": [
        "5.3"
      ],
      "metadata": {
        "id": "ldeA6STWq_e2"
      }
    },
    {
      "cell_type": "code",
      "source": [
        "m = np.array([[1, 2, 3, 4],\n",
        "              [5, 6, 7, 8],\n",
        "              [9, 10, 11, 12]])\n",
        "\n",
        "maximos_filas = np.max(m, axis=1)\n",
        "minimos_filas = np.min(m, axis=1)\n",
        "\n",
        "print(\"Máximos por fila:\", maximos_filas)\n",
        "print(\"Mínimos por fila:\", minimos_filas)"
      ],
      "metadata": {
        "colab": {
          "base_uri": "https://localhost:8080/"
        },
        "id": "ywZBrMTjqWuX",
        "outputId": "d9f4d539-2b37-4d64-ba87-6da59097bf9b"
      },
      "execution_count": 17,
      "outputs": [
        {
          "output_type": "stream",
          "name": "stdout",
          "text": [
            "Máximos por fila: [ 4  8 12]\n",
            "Mínimos por fila: [1 5 9]\n"
          ]
        }
      ]
    },
    {
      "cell_type": "markdown",
      "source": [
        "5.4"
      ],
      "metadata": {
        "id": "EB5Gpdn7rBQ-"
      }
    },
    {
      "cell_type": "code",
      "source": [
        "seno = np.sin(v)\n",
        "print(\"Seno de cada elemento:\", seno)"
      ],
      "metadata": {
        "id": "J234EF0QqW4v"
      },
      "execution_count": null,
      "outputs": []
    },
    {
      "cell_type": "markdown",
      "source": [
        "5.5"
      ],
      "metadata": {
        "id": "YfTw1o4orDlm"
      }
    },
    {
      "cell_type": "code",
      "source": [
        "transpuesta = m.T\n",
        "print(\"Matriz transpuesta (4x3):\\n\", transpuesta)\n"
      ],
      "metadata": {
        "colab": {
          "base_uri": "https://localhost:8080/"
        },
        "id": "HnlWbX12qXC1",
        "outputId": "27e608d4-2fa6-4841-a681-59ed0f180fc4"
      },
      "execution_count": 18,
      "outputs": [
        {
          "output_type": "stream",
          "name": "stdout",
          "text": [
            "Matriz transpuesta (4x3):\n",
            " [[ 1  5  9]\n",
            " [ 2  6 10]\n",
            " [ 3  7 11]\n",
            " [ 4  8 12]]\n"
          ]
        }
      ]
    },
    {
      "cell_type": "markdown",
      "source": [
        "Crea un DataFrame con las siguientes columnas: 'Nombre', 'Edad', 'Ciudad'. Añade al menos 10 registros.\n",
        "• Del DataFrame creado, filtra a las personas que tienen más de 25 años. • A tu DataFrame, añade una nueva columna llamada 'Ingresos', rellénala con cualquier valor.\n",
        "• Encuentra el promedio de la edad en tu DataFrame.\n",
        "• Cuenta cuántas veces aparece cada ciudad en tu DataFrame.\n",
        "• Agrupa tu DataFrame por 'Ciudad' y calcula el promedio de 'Edad' para cada ciudad. (groupby)\n",
        "• Ordena tu DataFrame por 'Edad', de manera ascendente y luego descendente."
      ],
      "metadata": {
        "id": "BaR15tQdrI4n"
      }
    },
    {
      "cell_type": "markdown",
      "source": [
        "6.1"
      ],
      "metadata": {
        "id": "B-3aXY5JsCwF"
      }
    },
    {
      "cell_type": "code",
      "source": [
        "import pandas as pd\n",
        "\n",
        "# Crear DataFrame\n",
        "data = {'Nombre': ['Ana', 'Luis', 'Carlos', 'Marta', 'Jorge', 'Elena', 'Pedro', 'Sofía', 'Raúl', 'Lucía'],\n",
        "        'Edad': [23, 34, 29, 21, 40, 27, 33, 22, 30, 26],\n",
        "        'Ciudad': ['Lima', 'Cusco', 'Lima', 'Arequipa', 'Cusco', 'Lima', 'Arequipa', 'Cusco', 'Lima', 'Arequipa']}\n",
        "\n",
        "df = pd.DataFrame(data)\n",
        "\n",
        "# Filtrar personas con edad mayor a 25\n",
        "mayores_25 = df[df['Edad'] > 25]\n",
        "print(\"Personas con más de 25 años:\\n\", mayores_25)\n"
      ],
      "metadata": {
        "colab": {
          "base_uri": "https://localhost:8080/"
        },
        "id": "OF5DM_d_sLyO",
        "outputId": "ca978fb5-ad21-4b09-b3ae-3aeaa6ff76d4"
      },
      "execution_count": 19,
      "outputs": [
        {
          "output_type": "stream",
          "name": "stdout",
          "text": [
            "Personas con más de 25 años:\n",
            "    Nombre  Edad    Ciudad\n",
            "1    Luis    34     Cusco\n",
            "2  Carlos    29      Lima\n",
            "4   Jorge    40     Cusco\n",
            "5   Elena    27      Lima\n",
            "6   Pedro    33  Arequipa\n",
            "8    Raúl    30      Lima\n",
            "9   Lucía    26  Arequipa\n"
          ]
        }
      ]
    },
    {
      "cell_type": "markdown",
      "source": [
        "6.2"
      ],
      "metadata": {
        "id": "JWWb9GLbs2g3"
      }
    },
    {
      "cell_type": "code",
      "source": [
        "df['Ingresos'] = [1500, 2000, 1800, 1200, 2200, 1600, 1700, 1300, 1900, 1400]\n",
        "print(\"DataFrame con columna 'Ingresos':\\n\", df)"
      ],
      "metadata": {
        "id": "eJplD4_7tAyt"
      },
      "execution_count": null,
      "outputs": []
    },
    {
      "cell_type": "markdown",
      "source": [
        "6.3"
      ],
      "metadata": {
        "id": "fSNs_tRdtBrf"
      }
    },
    {
      "cell_type": "code",
      "source": [
        "promedio_edad = df['Edad'].mean()\n",
        "print(\"Promedio de edad:\", promedio_edad)"
      ],
      "metadata": {
        "id": "WAVS3QKEtDAv"
      },
      "execution_count": null,
      "outputs": []
    },
    {
      "cell_type": "markdown",
      "source": [
        "6.4"
      ],
      "metadata": {
        "id": "bDYDnatOtGIf"
      }
    },
    {
      "cell_type": "code",
      "source": [
        "conteo_ciudades = df['Ciudad'].value_counts()\n",
        "print(\"Cantidad por ciudad:\\n\", conteo_ciudades)\n"
      ],
      "metadata": {
        "id": "KpNFGIp2tHyw"
      },
      "execution_count": null,
      "outputs": []
    },
    {
      "cell_type": "markdown",
      "source": [
        "6.5"
      ],
      "metadata": {
        "id": "mp642nUHtJte"
      }
    },
    {
      "cell_type": "code",
      "source": [
        "promedio_por_ciudad = df.groupby('Ciudad')['Edad'].mean()\n",
        "print(\"Promedio de edad por ciudad:\\n\", promedio_por_ciudad)\n"
      ],
      "metadata": {
        "id": "0XTRJySatK4G"
      },
      "execution_count": null,
      "outputs": []
    },
    {
      "cell_type": "markdown",
      "source": [
        "6.6"
      ],
      "metadata": {
        "id": "_GZgC1j5tM_v"
      }
    },
    {
      "cell_type": "code",
      "source": [
        "orden_asc = df.sort_values(by='Edad')\n",
        "print(\"Ordenado por edad (ascendente):\\n\", orden_asc)\n",
        "\n",
        "orden_desc = df.sort_values(by='Edad', ascending=False)\n",
        "print(\"Ordenado por edad (descendente):\\n\", orden_desc)\n"
      ],
      "metadata": {
        "colab": {
          "base_uri": "https://localhost:8080/"
        },
        "id": "6JZI2zyYtOUW",
        "outputId": "0284baa8-142d-4925-efa2-f93c7eef1f54"
      },
      "execution_count": 20,
      "outputs": [
        {
          "output_type": "stream",
          "name": "stdout",
          "text": [
            "Ordenado por edad (ascendente):\n",
            "    Nombre  Edad    Ciudad\n",
            "3   Marta    21  Arequipa\n",
            "7   Sofía    22     Cusco\n",
            "0     Ana    23      Lima\n",
            "9   Lucía    26  Arequipa\n",
            "5   Elena    27      Lima\n",
            "2  Carlos    29      Lima\n",
            "8    Raúl    30      Lima\n",
            "6   Pedro    33  Arequipa\n",
            "1    Luis    34     Cusco\n",
            "4   Jorge    40     Cusco\n",
            "Ordenado por edad (descendente):\n",
            "    Nombre  Edad    Ciudad\n",
            "4   Jorge    40     Cusco\n",
            "1    Luis    34     Cusco\n",
            "6   Pedro    33  Arequipa\n",
            "8    Raúl    30      Lima\n",
            "2  Carlos    29      Lima\n",
            "5   Elena    27      Lima\n",
            "9   Lucía    26  Arequipa\n",
            "0     Ana    23      Lima\n",
            "7   Sofía    22     Cusco\n",
            "3   Marta    21  Arequipa\n"
          ]
        }
      ]
    },
    {
      "cell_type": "markdown",
      "source": [
        "EJERCICIO 07: Del archivo adjunto realizar los siguientes filtros:\n",
        "• Indicar cuantos son de la carrera de Ing. en sistemas\n",
        "• Indicar cuantos son de la carrera de Ing. en derecho\n",
        "• Indicar cuantos se inscribieron en el año 2015\n",
        "• Indicar cuantos son del 1 y 2 semestre"
      ],
      "metadata": {
        "id": "llThK8ByvqhX"
      }
    },
    {
      "cell_type": "markdown",
      "source": [
        "Indicar cuantos son de la carrera de Ing. en sistemas"
      ],
      "metadata": {
        "id": "lHBR8yVMvlh2"
      }
    },
    {
      "cell_type": "code",
      "source": [
        "import pandas as pd\n",
        "import numpy as np\n",
        "\n",
        "df = pd.read_excel(\"universidad.xlsx\")\n",
        "\n",
        "# Normalizamos la columna 'Carrera'\n",
        "df['Carrera'] = df['Carrera'].str.strip().str.lower()\n",
        "\n",
        "# Convertimos a NumPy y filtramos\n",
        "carreras = df['Carrera'].to_numpy()\n",
        "filtro_sistemas = np.char.find(carreras.astype(str), 'ing. en sistemas') >= 0\n",
        "\n",
        "# Resultado\n",
        "print(\"Cantidad de estudiantes de Ing. en sistemas:\", np.sum(filtro_sistemas))\n"
      ],
      "metadata": {
        "colab": {
          "base_uri": "https://localhost:8080/"
        },
        "id": "tGPUhknovWzv",
        "outputId": "51111661-4b7e-4861-e179-d9c279100413"
      },
      "execution_count": 21,
      "outputs": [
        {
          "output_type": "stream",
          "name": "stdout",
          "text": [
            "Cantidad de estudiantes de Ing. en sistemas: 13\n"
          ]
        }
      ]
    },
    {
      "cell_type": "markdown",
      "source": [
        "Indicar cuantos son de la carrera de Ing. en derecho"
      ],
      "metadata": {
        "id": "8V_u6Bdbv1v3"
      }
    },
    {
      "cell_type": "code",
      "source": [
        "filtro_derecho = np.char.find(carreras.astype(str), 'ing. en derecho') >= 0\n",
        "# Resultado\n",
        "print(\"Cantidad de estudiantes de Ing. en derecho:\", np.sum(filtro_derecho))"
      ],
      "metadata": {
        "id": "v9oFunqRv97_"
      },
      "execution_count": null,
      "outputs": []
    },
    {
      "cell_type": "markdown",
      "source": [
        "Indicar cuantos se inscribieron en el año 2015"
      ],
      "metadata": {
        "id": "z9GxOEYIv4qP"
      }
    },
    {
      "cell_type": "code",
      "source": [
        "df['Año Inscripción'] = pd.to_datetime(df['Inscripción']).dt.year\n",
        "anios = df['Año Inscripción'].to_numpy()\n",
        "filtro_2015 = anios == 2015\n",
        "print(\"Cantidad de estudiantes inscritos en 2015:\", np.sum(filtro_2015))"
      ],
      "metadata": {
        "id": "2hPHOgn3wJNv"
      },
      "execution_count": null,
      "outputs": []
    },
    {
      "cell_type": "markdown",
      "source": [
        "Indicar cuantos son del 1 y 2 semestre"
      ],
      "metadata": {
        "id": "1jwNo8wywa5f"
      }
    },
    {
      "cell_type": "code",
      "source": [
        "df['Semestre'] = pd.to_numeric(df['Semestre'], errors='coerce')\n",
        "semestres = df['Semestre'].to_numpy()\n",
        "filtro_1_2 = np.isin(semestres, [1, 2])\n",
        "# Resultado\n",
        "print(\"Cantidad de estudiantes en 1° y 2° semestre:\", np.sum(filtro_1_2))\n"
      ],
      "metadata": {
        "id": "n6Nv0E0IwT-_"
      },
      "execution_count": null,
      "outputs": []
    }
  ]
}